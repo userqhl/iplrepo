{
  "cells": [
    {
      "cell_type": "markdown",
      "metadata": {
        "id": "3LnLggENF54E"
      },
      "source": [
        "# Detect Highly Defect Production Instances"
      ]
    },
    {
      "cell_type": "markdown",
      "metadata": {
        "id": "O2mFGMcVF54H"
      },
      "source": [
        "## Initiales Setup"
      ]
    },
    {
      "cell_type": "code",
      "execution_count": null,
      "metadata": {
        "id": "21wmh3ohF54I"
      },
      "outputs": [],
      "source": [
        "# Importieren der benötigten Algorithmen und Software-Libraries\n",
        "import pandas as pd\n",
        "import matplotlib.pyplot as plt\n",
        "import seaborn as sns\n",
        "import numpy as np\n",
        "from sklearn.model_selection import train_test_split\n",
        "from sklearn.tree import DecisionTreeClassifier, plot_tree"
      ]
    },
    {
      "cell_type": "code",
      "execution_count": null,
      "metadata": {
        "id": "oIfut8jXF54K"
      },
      "outputs": [],
      "source": [
        "# Laden der Daten\n",
        "df = pd.read_csv(\"https://raw.githubusercontent.com/userqhl/iplrepo/main/manufacturing_defect_dataset.csv\")"
      ]
    },
    {
      "cell_type": "markdown",
      "metadata": {
        "id": "XwPTFSLuF54K"
      },
      "source": [
        "## Datenexploration"
      ]
    },
    {
      "cell_type": "code",
      "execution_count": null,
      "metadata": {
        "id": "UC40xVZdF54K"
      },
      "outputs": [],
      "source": [
        "df.head()"
      ]
    },
    {
      "cell_type": "code",
      "execution_count": null,
      "metadata": {
        "id": "cN8pEGOuF54L"
      },
      "outputs": [],
      "source": [
        "df.info()"
      ]
    },
    {
      "cell_type": "code",
      "execution_count": null,
      "metadata": {
        "id": "k3RBXXNCF54O"
      },
      "outputs": [],
      "source": [
        "# Erstellen eines Histogramms\n",
        "df['SupplierQuality'].hist(bins=30)\n",
        "plt.title('Distribution of SupplierQuality')\n",
        "plt.xlabel('SupplierQuality')\n",
        "plt.ylabel('Frequency')\n",
        "plt.show()"
      ]
    },
    {
      "cell_type": "markdown",
      "metadata": {
        "id": "P3sD0RK_F54P"
      },
      "source": [
        "## Trainieren eines ersten Entscheidungsbaums"
      ]
    },
    {
      "cell_type": "code",
      "execution_count": null,
      "metadata": {
        "id": "9V9mmTtiF54P"
      },
      "outputs": [],
      "source": [
        "# Definieren des \"Outcomes\" und der \"Features\"\n",
        "X = df.drop('DefectStatus', axis=1)\n",
        "y = df['DefectStatus']"
      ]
    },
    {
      "cell_type": "code",
      "source": [
        "X"
      ],
      "metadata": {
        "id": "NhQoQKENCbdG"
      },
      "execution_count": null,
      "outputs": []
    },
    {
      "cell_type": "code",
      "source": [
        "y"
      ],
      "metadata": {
        "id": "StkRrSChCeGO"
      },
      "execution_count": null,
      "outputs": []
    },
    {
      "cell_type": "code",
      "execution_count": null,
      "metadata": {
        "id": "nwpMX_r_F54P"
      },
      "outputs": [],
      "source": [
        "# Initialisieren des DecisionTree\n",
        "tree = DecisionTreeClassifier(max_depth=2)\n",
        "tree.fit(X, y)"
      ]
    },
    {
      "cell_type": "code",
      "execution_count": null,
      "metadata": {
        "id": "zeSiJMBWF54P"
      },
      "outputs": [],
      "source": [
        "# Plotten des Modells\n",
        "plt.figure(figsize=(12, 8))\n",
        "plot_tree(tree, feature_names=X.columns, filled=True)\n",
        "plt.show()"
      ]
    },
    {
      "cell_type": "code",
      "execution_count": null,
      "metadata": {
        "id": "KP5D7cQEF54P"
      },
      "outputs": [],
      "source": [
        "tree.predict(X)"
      ]
    },
    {
      "cell_type": "markdown",
      "metadata": {
        "id": "M_Su0YhbF54P"
      },
      "source": [
        "### Spielen wir ein bisschen mit Hyperparametern\n",
        "\n",
        "Zu variierende Hyperparameter\n",
        "\n",
        "- **max_depth:** zulässige Anzahl der maximalen Splits\n",
        "- **min_samples_leaf:** Die Mindestanzahl von Instanzen, die in einem Blattknoten vorhanden sein müssen."
      ]
    },
    {
      "cell_type": "code",
      "execution_count": null,
      "metadata": {
        "id": "A-mOgteEF54P"
      },
      "outputs": [],
      "source": [
        "# Anpassen der Hyperparameter\n",
        "tree = DecisionTreeClassifier(max_depth=____, min_samples_leaf=_____)\n",
        "tree.fit(X, y)"
      ]
    },
    {
      "cell_type": "code",
      "execution_count": null,
      "metadata": {
        "id": "iFQ6SAK3F54Q"
      },
      "outputs": [],
      "source": [
        "# Plotten des Modells\n",
        "plt.figure(figsize=(20, 15))\n",
        "plot_tree(tree, feature_names=X.columns, filled=True)\n",
        "plt.show()"
      ]
    }
  ],
  "metadata": {
    "kernelspec": {
      "display_name": "random-shit-4vF_N0_t-py3.11",
      "language": "python",
      "name": "python3"
    },
    "language_info": {
      "codemirror_mode": {
        "name": "ipython",
        "version": 3
      },
      "file_extension": ".py",
      "mimetype": "text/x-python",
      "name": "python",
      "nbconvert_exporter": "python",
      "pygments_lexer": "ipython3",
      "version": "3.11.7"
    },
    "colab": {
      "provenance": []
    }
  },
  "nbformat": 4,
  "nbformat_minor": 0
}